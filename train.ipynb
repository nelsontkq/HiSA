{
 "cells": [
  {
   "cell_type": "code",
   "execution_count": 1,
   "metadata": {},
   "outputs": [],
   "source": [
    "import pathlib\n",
    "\n",
    "# ⑆ (transit: used to delimit a bank code);\n",
    "# ⑈ (on-us: used to delimit a customer account number);\n",
    "# ⑇ (amount: used to delimit a transaction amount);\n",
    "# ⑉ (dash: used to delimit parts of numbers—e.g., routing numbers or account numbers).\n",
    "char_map = {\"A\": \"⑆\", \"B\": \"⑇\", \"C\": \"⑈\", \"D\": \"⑉\"}\n",
    "\n",
    "# convert dataset to EasyOCR format\n",
    "\n",
    "images = sorted(pathlib.Path(\"e13b\").rglob(\"*.tif\"), key=lambda x: x.stem)\n",
    "labels = sorted(pathlib.Path(\"e13b\").rglob(\"*.gt.txt\"), key=lambda x: x.stem)"
   ]
  },
  {
   "cell_type": "code",
   "execution_count": 7,
   "metadata": {},
   "outputs": [
    {
     "data": {
      "text/plain": [
       "True"
      ]
     },
     "execution_count": 7,
     "metadata": {},
     "output_type": "execute_result"
    }
   ],
   "source": []
  },
  {
   "cell_type": "code",
   "execution_count": 8,
   "metadata": {},
   "outputs": [],
   "source": [
    "import pandas as pd\n",
    "\n",
    "data = []\n",
    "for image_path, label_path in zip(images, labels):\n",
    "    label = label_path.read_text().strip()\n",
    "    for key, value in char_map.items():\n",
    "        label = label.replace(key, value)\n",
    "    data.append({\n",
    "        \"filename\": image_path.name,\n",
    "        \"words\": label\n",
    "    })\n",
    "\n",
    "df = pd.DataFrame(data)\n",
    "# replace \\s+ with ' ' in `words` column\n",
    "df[\"words\"] = df[\"words\"].str.replace(r\"\\s+\", \" \", regex=True)\n",
    "df.to_csv(\"data/labels.csv\", index=False)"
   ]
  },
  {
   "cell_type": "code",
   "execution_count": 11,
   "metadata": {},
   "outputs": [],
   "source": [
    "# convert all tifs to jpgs\n",
    "import cv2\n",
    "import numpy as np\n",
    "\n",
    "for image_path in images:\n",
    "    image = cv2.imread(str(image_path), cv2.IMREAD_UNCHANGED)\n",
    "    cv2.imwrite(f\"o/data/{image_path.stem}.jpg\", image, [int(cv2.IMWRITE_JPEG_QUALITY), 100])"
   ]
  },
  {
   "cell_type": "code",
   "execution_count": 20,
   "metadata": {},
   "outputs": [],
   "source": [
    "import os\n",
    "import shutil\n",
    "df = pd.read_csv(\"data/labels.csv\")\n",
    "\n",
    "# split the dataset into train, val, and test\n",
    "train_data = df.sample(frac=0.8, random_state=42)\n",
    "df = df.drop(train_data.index)\n",
    "val_data = df.sample(frac=0.5, random_state=42)\n",
    "test_data = df.drop(val_data.index)\n",
    "\n",
    "# save the new datasets and the images to output/\n",
    "os.makedirs(\"output/train\", exist_ok=True)\n",
    "os.makedirs(\"output/val\", exist_ok=True)\n",
    "os.makedirs(\"output/test\", exist_ok=True)\n",
    "train_data.to_csv(\"output/train/labels.csv\", index=False)\n",
    "val_data.to_csv(\"output/val/labels.csv\", index=False)\n",
    "test_data.to_csv(\"output/test/labels.csv\", index=False)\n",
    "for row in train_data.itertuples():\n",
    "    shutil.copy(f\"data/{row.filename}\", f\"output/train/{row.filename}\")\n",
    "for row in val_data.itertuples():\n",
    "    shutil.copy(f\"data/{row.filename}\", f\"output/val/{row.filename}\")\n",
    "for row in test_data.itertuples():\n",
    "    shutil.copy(f\"data/{row.filename}\", f\"output/test/{row.filename}\")\n"
   ]
  }
 ],
 "metadata": {
  "kernelspec": {
   "display_name": "base",
   "language": "python",
   "name": "python3"
  },
  "language_info": {
   "codemirror_mode": {
    "name": "ipython",
    "version": 3
   },
   "file_extension": ".py",
   "mimetype": "text/x-python",
   "name": "python",
   "nbconvert_exporter": "python",
   "pygments_lexer": "ipython3",
   "version": "3.12.4"
  }
 },
 "nbformat": 4,
 "nbformat_minor": 2
}
