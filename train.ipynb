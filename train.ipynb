{
 "cells": [
  {
   "cell_type": "code",
   "execution_count": 2,
   "metadata": {},
   "outputs": [
    {
     "name": "stderr",
     "output_type": "stream",
     "text": [
      "Some weights of VisionEncoderDecoderModel were not initialized from the model checkpoint at microsoft/trocr-base-printed and are newly initialized: ['encoder.pooler.dense.bias', 'encoder.pooler.dense.weight']\n",
      "You should probably TRAIN this model on a down-stream task to be able to use it for predictions and inference.\n"
     ]
    },
    {
     "data": {
      "text/plain": [
       "'003180049: 00238-0145* 1172 /0000120000/'"
      ]
     },
     "execution_count": 2,
     "metadata": {},
     "output_type": "execute_result"
    }
   ],
   "source": [
    "from transformers import TrOCRProcessor, VisionEncoderDecoderModel\n",
    "from PIL import Image\n",
    "import requests\n",
    "\n",
    "image = Image.open('e13b/reallife_cgi_1212991940-0.tif').convert(\"RGB\")\n",
    "\n",
    "processor = TrOCRProcessor.from_pretrained('microsoft/trocr-base-printed')\n",
    "model = VisionEncoderDecoderModel.from_pretrained('microsoft/trocr-base-printed')\n",
    "pixel_values = processor(images=image, return_tensors=\"pt\").pixel_values\n",
    "\n",
    "generated_ids = model.generate(pixel_values)\n",
    "generated_text = processor.batch_decode(generated_ids, skip_special_tokens=True)[0]\n",
    "generated_text"
   ]
  },
  {
   "cell_type": "code",
   "execution_count": 1,
   "metadata": {},
   "outputs": [],
   "source": [
    "import pathlib\n",
    "\n",
    "# ⑆ (transit: used to delimit a bank code);\n",
    "# ⑈ (on-us: used to delimit a customer account number);\n",
    "# ⑇ (amount: used to delimit a transaction amount);\n",
    "# ⑉ (dash: used to delimit parts of numbers—e.g., routing numbers or account numbers).\n",
    "char_map = {\"A\": \"⑆\", \"B\": \"⑇\", \"C\": \"⑈\", \"D\": \"⑉\"}\n",
    "\n",
    "# convert dataset to EasyOCR format\n",
    "\n",
    "images = sorted(pathlib.Path(\"e13b\").rglob(\"*.tif\"), key=lambda x: x.stem)\n",
    "labels = sorted(pathlib.Path(\"e13b\").rglob(\"*.gt.txt\"), key=lambda x: x.stem)"
   ]
  },
  {
   "cell_type": "code",
   "execution_count": 7,
   "metadata": {},
   "outputs": [
    {
     "data": {
      "text/plain": [
       "True"
      ]
     },
     "execution_count": 7,
     "metadata": {},
     "output_type": "execute_result"
    }
   ],
   "source": []
  },
  {
   "cell_type": "code",
   "execution_count": 8,
   "metadata": {},
   "outputs": [],
   "source": [
    "import pandas as pd\n",
    "\n",
    "data = []\n",
    "for image_path, label_path in zip(images, labels):\n",
    "    label = label_path.read_text().strip()\n",
    "    for key, value in char_map.items():\n",
    "        label = label.replace(key, value)\n",
    "    data.append({\n",
    "        \"filename\": image_path.name,\n",
    "        \"words\": label\n",
    "    })\n",
    "\n",
    "df = pd.DataFrame(data)"
   ]
  },
  {
   "cell_type": "code",
   "execution_count": 10,
   "metadata": {},
   "outputs": [],
   "source": [
    "df.head()\n",
    "df.to_csv(\"labels.csv\", index=False)"
   ]
  },
  {
   "cell_type": "code",
   "execution_count": 11,
   "metadata": {},
   "outputs": [],
   "source": [
    "# convert all tifs to jpgs\n",
    "import cv2\n",
    "import numpy as np\n",
    "\n",
    "for image_path in images:\n",
    "    image = cv2.imread(str(image_path), cv2.IMREAD_UNCHANGED)\n",
    "    cv2.imwrite(f\"o/data/{image_path.stem}.jpg\", image, [int(cv2.IMWRITE_JPEG_QUALITY), 100])"
   ]
  }
 ],
 "metadata": {
  "kernelspec": {
   "display_name": "base",
   "language": "python",
   "name": "python3"
  },
  "language_info": {
   "codemirror_mode": {
    "name": "ipython",
    "version": 3
   },
   "file_extension": ".py",
   "mimetype": "text/x-python",
   "name": "python",
   "nbconvert_exporter": "python",
   "pygments_lexer": "ipython3",
   "version": "3.12.4"
  }
 },
 "nbformat": 4,
 "nbformat_minor": 2
}
